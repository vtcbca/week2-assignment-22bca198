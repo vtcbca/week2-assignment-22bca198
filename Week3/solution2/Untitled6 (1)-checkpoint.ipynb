{
 "cells": [
  {
   "cell_type": "code",
   "execution_count": 1,
   "id": "2017468a",
   "metadata": {},
   "outputs": [],
   "source": [
    "import sqlite3"
   ]
  },
  {
   "cell_type": "code",
   "execution_count": 9,
   "id": "0c9a6d96",
   "metadata": {},
   "outputs": [],
   "source": [
    "conn=sqlite.connect(\"ems.db\")"
   ]
  },
  {
   "cell_type": "code",
   "execution_count": 4,
   "id": "6d8c6b64",
   "metadata": {},
   "outputs": [],
   "source": [
    "c=\"create table employee(eid int primary key,ename text,dept text,basic int,branch text)\""
   ]
  },
  {
   "cell_type": "code",
   "execution_count": 5,
   "id": "8ea0cf32",
   "metadata": {},
   "outputs": [],
   "source": [
    "cursor=conn.cursor()"
   ]
  },
  {
   "cell_type": "code",
   "execution_count": 6,
   "id": "32e1ac90",
   "metadata": {},
   "outputs": [],
   "source": [
    "cursor.execute(c)"
   ]
  },
  {
   "cell_type": "code",
   "execution_count": 7,
   "id": "61242845",
   "metadata": {},
   "outputs": [],
   "source": [
    "conn.commit()"
   ]
  },
  {
   "cell_type": "code",
   "execution_count": 8,
   "id": "a6d119c1",
   "metadata": {},
   "outputs": [],
   "source": [
    "conn.close()"
   ]
  },
  {
   "cell_type": "code",
   "execution_count": 10,
   "id": "444af577",
   "metadata": {},
   "outputs": [],
   "source": [
    "import sqlite3"
   ]
  },
  {
   "cell_type": "code",
   "execution_count": 11,
   "id": "ad614586",
   "metadata": {},
   "outputs": [],
   "source": [
    "conn=sqlite.connect(\"ems.db\")"
   ]
  },
  {
   "cell_type": "code",
   "execution_count": 12,
   "id": "0e404629",
   "metadata": {},
   "outputs": [],
   "source": [
    "cursor.execute('insert into employee values(1,'om','accountant',5000,'surat'))"
   ]
  },
  {
   "cell_type": "code",
   "execution_count": 13,
   "id": "abe63e61",
   "metadata": {},
   "outputs": [],
   "source": [
    "cursor.execute('insert into employee values(2,'sai','IT',6900,'mandvi'))"
   ]
  },
  {
   "cell_type": "code",
   "execution_count": 14,
   "id": "17090ca6",
   "metadata": {},
   "outputs": [],
   "source": [
    "cursor.execute('insert into employee values(3,'ram','HR',7000,'madhi'))"
   ]
  },
  {
   "cell_type": "code",
   "execution_count": 16,
   "id": "24b61986",
   "metadata": {},
   "outputs": [],
   "source": [
    "cursor.execute('insert into employee values(4,'krishna','accountant',5000,'surat'))"
   ]
  },
  {
   "cell_type": "code",
   "execution_count": 17,
   "id": "16f1bbf3",
   "metadata": {},
   "outputs": [],
   "source": [
    "cursor.execute('insert into employee values(5,'radha','wed developer',5000,'surat'))"
   ]
  },
  {
   "cell_type": "code",
   "execution_count": 18,
   "id": "d8662d9d",
   "metadata": {},
   "outputs": [],
   "source": [
    "conn.commit()"
   ]
  },
  {
   "cell_type": "code",
   "execution_count": 19,
   "id": "361baabe",
   "metadata": {},
   "outputs": [],
   "source": [
    "r=[(6,'bhavik','principle',8500,'madhi'),\n",
    "     (7,'meet','HR',9500,'vyara'),\n",
    "     (8,'dev','HR',7000,'surat'),\n",
    "     (9,'deep','Inventory',8600,'bardoli'),\n",
    "     (10,'vivek','HR',7500,'vyara')]"
   ]
  },
  {
   "cell_type": "code",
   "execution_count": 20,
   "id": "6c4b8ed5",
   "metadata": {},
   "outputs": [],
   "source": [
    "c=\"insert into employee values(?,?,?,?,?)\""
   ]
  },
  {
   "cell_type": "code",
   "execution_count": 21,
   "id": "b4e183db",
   "metadata": {},
   "outputs": [],
   "source": [
    "cursor.executemany(c,r)"
   ]
  },
  {
   "cell_type": "code",
   "execution_count": 22,
   "id": "fc948715",
   "metadata": {},
   "outputs": [],
   "source": [
    "conn.commit()"
   ]
  },
  {
   "cell_type": "code",
   "execution_count": 23,
   "id": "a1296839",
   "metadata": {},
   "outputs": [],
   "source": [
    "d=\"insert into employee values(?,?,?,?,?)\""
   ]
  },
  {
   "cell_type": "code",
   "execution_count": 24,
   "id": "5ce00b35",
   "metadata": {},
   "outputs": [],
   "source": [
    "L=[]\n"
   ]
  },
  {
   "cell_type": "code",
   "execution_count": 25,
   "id": "b675afe3",
   "metadata": {},
   "outputs": [],
   "source": [
    "for a in range(5:)"
   ]
  },
  {
   "cell_type": "code",
   "execution_count": 26,
   "id": "ca01aabe",
   "metadata": {},
   "outputs": [],
   "source": [
    "n=int(input(\"Enter emp id:\"))\n",
    "    name=input(\"Enter emp name:\")\n",
    "    dep=input(\"Enter emp department:\")\n",
    "    basic=int(input(\"Enter emp basic:\"))\n",
    "    branch=input(\"Enter emp branch\")"
   ]
  },
  {
   "cell_type": "code",
   "execution_count": 27,
   "id": "8c5e07c2",
   "metadata": {},
   "outputs": [],
   "source": [
    "t=(n,name,dep,basic,branch)"
   ]
  },
  {
   "cell_type": "code",
   "execution_count": 28,
   "id": "099142c9",
   "metadata": {},
   "outputs": [],
   "source": [
    "l.append(t)"
   ]
  },
  {
   "cell_type": "code",
   "execution_count": 29,
   "id": "2fb51258",
   "metadata": {},
   "outputs": [],
   "source": [
    "cursor.executemany(d,l)"
   ]
  },
  {
   "cell_type": "code",
   "execution_count": 30,
   "id": "c46f0b33",
   "metadata": {},
   "outputs": [],
   "source": [
    "conn.commit()"
   ]
  },
  {
   "cell_type": "code",
   "execution_count": 31,
   "id": "a32c9455",
   "metadata": {},
   "outputs": [],
   "source": [
    "conn.colse()"
   ]
  },
  {
   "cell_type": "code",
   "execution_count": 32,
   "id": "8e0cee61",
   "metadata": {},
   "outputs": [],
   "source": [
    "import selite3"
   ]
  },
  {
   "cell_type": "code",
   "execution_count": 33,
   "id": "cc1438b1",
   "metadata": {},
   "outputs": [],
   "source": [
    "conn=sqlite.connect(\"ems.db\")"
   ]
  },
  {
   "cell_type": "code",
   "execution_count": 34,
   "id": "dbb22dca",
   "metadata": {},
   "outputs": [],
   "source": [
    "u=\"update employee set basic=basic+(basic*10)/100 where branch='surat'\""
   ]
  },
  {
   "cell_type": "code",
   "execution_count": 35,
   "id": "47e5a96a",
   "metadata": {},
   "outputs": [],
   "source": [
    "cursor=conn.cursor()"
   ]
  },
  {
   "cell_type": "code",
   "execution_count": 36,
   "id": "f124ef90",
   "metadata": {},
   "outputs": [],
   "source": [
    "cursor.execute(u)"
   ]
  },
  {
   "cell_type": "code",
   "execution_count": 37,
   "id": "6f9b4a48",
   "metadata": {},
   "outputs": [],
   "source": [
    "conn.commit()"
   ]
  },
  {
   "cell_type": "code",
   "execution_count": 38,
   "id": "5ae3a8f3",
   "metadata": {},
   "outputs": [],
   "source": [
    "conn.colse()"
   ]
  },
  {
   "cell_type": "code",
   "execution_count": 39,
   "id": "b0143ac1",
   "metadata": {},
   "outputs": [],
   "source": [
    "import sqlite3"
   ]
  },
  {
   "cell_type": "code",
   "execution_count": 49,
   "id": "1417cfe1",
   "metadata": {},
   "outputs": [],
   "source": [
    "conn=sqlite.connect(\"ems.db\")"
   ]
  },
  {
   "cell_type": "code",
   "execution_count": 41,
   "id": "763f5a78",
   "metadata": {},
   "outputs": [],
   "source": [
    "s=\"select * from employee\""
   ]
  },
  {
   "cell_type": "code",
   "execution_count": 42,
   "id": "358b4c9e",
   "metadata": {},
   "outputs": [],
   "source": [
    "cursor=conn.cursor()"
   ]
  },
  {
   "cell_type": "code",
   "execution_count": 43,
   "id": "db700c62",
   "metadata": {},
   "outputs": [],
   "source": [
    "cursor.execute(s)"
   ]
  },
  {
   "cell_type": "code",
   "execution_count": 44,
   "id": "68c1b3d3",
   "metadata": {},
   "outputs": [],
   "source": [
    "r=cursor.fetchall()"
   ]
  },
  {
   "cell_type": "code",
   "execution_count": 45,
   "id": "43986e93",
   "metadata": {},
   "outputs": [],
   "source": [
    "for i in range(len(r)):\n",
    "    print(\"emp id:\",(r[i][0]))\n",
    "    print(\"emp name:\",(r[i][1]))\n",
    "    print(\"emp dept:\",(r[i][2]))\n",
    "    print(\"emp basic:\",(r[i][3]))\n",
    "    print(\"emp branch:\",(r[i][4]))"
   ]
  },
  {
   "cell_type": "code",
   "execution_count": 46,
   "id": "d5666769",
   "metadata": {},
   "outputs": [],
   "source": [
    "conn.commit()"
   ]
  },
  {
   "cell_type": "code",
   "execution_count": 47,
   "id": "4b9a6d92",
   "metadata": {},
   "outputs": [],
   "source": [
    "conn.colse()"
   ]
  },
  {
   "cell_type": "code",
   "execution_count": 48,
   "id": "2133cdbf",
   "metadata": {},
   "outputs": [],
   "source": [
    "import sqlite3"
   ]
  },
  {
   "cell_type": "code",
   "execution_count": 50,
   "id": "f20b7a02",
   "metadata": {},
   "outputs": [],
   "source": [
    "conn=sqlite.connect(\"ems.db\")"
   ]
  },
  {
   "cell_type": "code",
   "execution_count": 51,
   "id": "93dbf1c6",
   "metadata": {},
   "outputs": [],
   "source": [
    "a=\"select * from employee where dept in('HR','IT')\""
   ]
  },
  {
   "cell_type": "code",
   "execution_count": 52,
   "id": "4c2833e4",
   "metadata": {},
   "outputs": [],
   "source": [
    "cursor=conn.cursor()"
   ]
  },
  {
   "cell_type": "code",
   "execution_count": 53,
   "id": "0574e12c",
   "metadata": {},
   "outputs": [],
   "source": [
    "cursor.execute(a)"
   ]
  },
  {
   "cell_type": "code",
   "execution_count": 54,
   "id": "5bf9cc87",
   "metadata": {},
   "outputs": [],
   "source": [
    "r=cur.fetchall()\n",
    "    for i in range(len(r)):\n",
    "            print(\"emp id:\",(r[i][0]))\n",
    "            print(\"emp name:\",(r[i][1]))\n",
    "            print(\"emp dept:\",(r[i][2]))\n",
    "            print(\"emp basic:\",(r[i][3]))\n",
    "            print(\"emp branch:\",(r[i][4]))"
   ]
  },
  {
   "cell_type": "code",
   "execution_count": 55,
   "id": "bbf8be33",
   "metadata": {},
   "outputs": [],
   "source": [
    "conn.commit()"
   ]
  },
  {
   "cell_type": "code",
   "execution_count": 56,
   "id": "dd487975",
   "metadata": {},
   "outputs": [],
   "source": [
    "conn.colse()"
   ]
  },
  {
   "cell_type": "code",
   "execution_count": 57,
   "id": "fbcc121c",
   "metadata": {},
   "outputs": [],
   "source": [
    "import sqlite3"
   ]
  },
  {
   "cell_type": "code",
   "execution_count": 58,
   "id": "ae397449",
   "metadata": {},
   "outputs": [],
   "source": [
    "conn=sqlite.connect(\"ems.db\")"
   ]
  },
  {
   "cell_type": "code",
   "execution_count": 59,
   "id": "d6d76ffb",
   "metadata": {},
   "outputs": [],
   "source": [
    "b=\"select * from employee order by dept\""
   ]
  },
  {
   "cell_type": "code",
   "execution_count": 60,
   "id": "501853dd",
   "metadata": {},
   "outputs": [],
   "source": [
    "cursor=conn.cursor()"
   ]
  },
  {
   "cell_type": "code",
   "execution_count": 61,
   "id": "fce5ad57",
   "metadata": {},
   "outputs": [],
   "source": [
    "cursor.execute(b)"
   ]
  },
  {
   "cell_type": "code",
   "execution_count": 62,
   "id": "de65a480",
   "metadata": {},
   "outputs": [],
   "source": [
    "r=cur.fetchall()\n",
    "for i in range(len(r)):\n",
    "       print(\"emp id:\",(r[i][0]))\n",
    "        print(\"emp name:\",(r[i][1]))\n",
    "        print(\"emp dept:\",(r[i][2]))\n",
    "        print(\"emp basic:\",(r[i][3]))\n",
    "        print(\"emp branch:\",(r[i][4]))"
   ]
  },
  {
   "cell_type": "code",
   "execution_count": 63,
   "id": "c7787ae2",
   "metadata": {},
   "outputs": [],
   "source": [
    "conn.commit()"
   ]
  },
  {
   "cell_type": "code",
   "execution_count": 64,
   "id": "d3fdd475",
   "metadata": {},
   "outputs": [],
   "source": [
    "conn.close()"
   ]
  },
  {
   "cell_type": "code",
   "execution_count": 65,
   "id": "ab103310",
   "metadata": {},
   "outputs": [],
   "source": [
    "import sqlite3"
   ]
  },
  {
   "cell_type": "code",
   "execution_count": 66,
   "id": "e6ddd986",
   "metadata": {},
   "outputs": [],
   "source": [
    "conn=sqlite.connect(\"ems.db\")"
   ]
  },
  {
   "cell_type": "code",
   "execution_count": 67,
   "id": "3dd56bd6",
   "metadata": {},
   "outputs": [],
   "source": [
    "b=\"select * from employee where basic>6000\""
   ]
  },
  {
   "cell_type": "code",
   "execution_count": 68,
   "id": "1946739f",
   "metadata": {},
   "outputs": [],
   "source": [
    "cursor=conn.cursor()\n",
    "cursor.execute(b)"
   ]
  },
  {
   "cell_type": "code",
   "execution_count": 69,
   "id": "12b15d70",
   "metadata": {},
   "outputs": [],
   "source": [
    "for i in range(len(r)):\n",
    "    print(\"emp id:\",(r[i][0]))\n",
    "    print(\"emp name:\",(r[i][1]))\n",
    "    print(\"emp dept:\",(r[i][2]))\n",
    "    print(\"emp basic:\",(r[i][3]))\n",
    "    print(\"emp branch:\",(r[i][4]))"
   ]
  },
  {
   "cell_type": "code",
   "execution_count": 70,
   "id": "6bc6a13d",
   "metadata": {},
   "outputs": [],
   "source": [
    "conn.commit()"
   ]
  },
  {
   "cell_type": "code",
   "execution_count": 71,
   "id": "a5403f85",
   "metadata": {},
   "outputs": [],
   "source": [
    "conn.close()"
   ]
  },
  {
   "cell_type": "code",
   "execution_count": 72,
   "id": "c111f532",
   "metadata": {},
   "outputs": [],
   "source": [
    "import sqlite3"
   ]
  },
  {
   "cell_type": "code",
   "execution_count": 73,
   "id": "0ab5040f",
   "metadata": {},
   "outputs": [],
   "source": [
    "conn=sqlite.connect(\"ems.db\")"
   ]
  },
  {
   "cell_type": "code",
   "execution_count": 74,
   "id": "2b2d9e0f",
   "metadata": {},
   "outputs": [],
   "source": [
    "v=\"select * from employee where ename like'_r%'\""
   ]
  },
  {
   "cell_type": "code",
   "execution_count": 82,
   "id": "679c440c",
   "metadata": {},
   "outputs": [],
   "source": [
    "cursor=conn.cursor()\n",
    "cursor.execute(v)"
   ]
  },
  {
   "cell_type": "code",
   "execution_count": 83,
   "id": "9ff956a1",
   "metadata": {},
   "outputs": [],
   "source": [
    "r=cur.fetchall()\n",
    "    for i in range(len(r)):\n",
    "        print(\"emp id:\",(r[i][0]))\n",
    "        print(\"emp name:\",(r[i][1]))\n",
    "        print(\"emp dept:\",(r[i][2]))\n",
    "        print(\"emp basic:\",(r[i][3]))\n",
    "        print(\"emp branch:\",(r[i][4]))"
   ]
  },
  {
   "cell_type": "code",
   "execution_count": 84,
   "id": "4ad8183a",
   "metadata": {},
   "outputs": [],
   "source": [
    "conn.commit()"
   ]
  },
  {
   "cell_type": "code",
   "execution_count": 85,
   "id": "33146fa2",
   "metadata": {},
   "outputs": [],
   "source": [
    "conn.colse()"
   ]
  },
  {
   "cell_type": "code",
   "execution_count": 86,
   "id": "768cb96b",
   "metadata": {},
   "outputs": [],
   "source": [
    "import sqlite3"
   ]
  },
  {
   "cell_type": "code",
   "execution_count": 87,
   "id": "cbff7952",
   "metadata": {},
   "outputs": [],
   "source": [
    "conn=sqlite.connect(\"ems.db\")"
   ]
  },
  {
   "cell_type": "code",
   "execution_count": 88,
   "id": "04d47e45",
   "metadata": {},
   "outputs": [],
   "source": [
    "z=\"select * from employee where dept in('Account','Inventory') group by dept\""
   ]
  },
  {
   "cell_type": "code",
   "execution_count": 89,
   "id": "ebe97a64",
   "metadata": {},
   "outputs": [],
   "source": [
    "cursor=con.cursor()\n",
    "cursor.execute(z)"
   ]
  },
  {
   "cell_type": "code",
   "execution_count": 90,
   "id": "1f7e27a3",
   "metadata": {},
   "outputs": [],
   "source": [
    "r=cur.fetchall()\n",
    "    for i in range(len(r)):\n",
    "            print(\"emp id:\",(r[i][0]))\n",
    "            print(\"emp name:\",(r[i][1]))\n",
    "            print(\"emp dept:\",(r[i][2]))\n",
    "            print(\"emp basic:\",(r[i][3]))\n",
    "            print(\"emp branch:\",(r[i][4]))"
   ]
  },
  {
   "cell_type": "code",
   "execution_count": 91,
   "id": "f869eff5",
   "metadata": {},
   "outputs": [],
   "source": [
    "conn.commit()"
   ]
  },
  {
   "cell_type": "code",
   "execution_count": 92,
   "id": "3a14f86d",
   "metadata": {},
   "outputs": [],
   "source": [
    "conn.close()"
   ]
  },
  {
   "cell_type": "code",
   "execution_count": 93,
   "id": "619f637e",
   "metadata": {},
   "outputs": [],
   "source": [
    "import qlite3"
   ]
  },
  {
   "cell_type": "code",
   "execution_count": 94,
   "id": "80f959ca",
   "metadata": {},
   "outputs": [],
   "source": [
    "conn=sqlite.connect(\"ems.db\")"
   ]
  },
  {
   "cell_type": "code",
   "execution_count": 95,
   "id": "1355e128",
   "metadata": {},
   "outputs": [],
   "source": [
    "m=\"select * from employee order by dept desc\""
   ]
  },
  {
   "cell_type": "code",
   "execution_count": 96,
   "id": "98d29457",
   "metadata": {},
   "outputs": [],
   "source": [
    "cursor=con.cursor()\n",
    "cursor.execute(m)"
   ]
  },
  {
   "cell_type": "code",
   "execution_count": 97,
   "id": "2f61d184",
   "metadata": {},
   "outputs": [],
   "source": [
    "r=cur.fetchall()\n",
    "    for i in range(len(r)):\n",
    "            print(\"emp id:\",(r[i][0]))\n",
    "            print(\"emp name:\",(r[i][1]))\n",
    "            print(\"emp dept:\",(r[i][2]))\n",
    "            print(\"emp basic:\",(r[i][3]))\n",
    "            print(\"emp branch:\",(r[i][4]))"
   ]
  },
  {
   "cell_type": "code",
   "execution_count": 98,
   "id": "9f5b5e8f",
   "metadata": {},
   "outputs": [],
   "source": [
    "conn.commit()"
   ]
  },
  {
   "cell_type": "code",
   "execution_count": 99,
   "id": "6f0611ce",
   "metadata": {},
   "outputs": [],
   "source": [
    "conn.close()"
   ]
  },
  {
   "cell_type": "code",
   "execution_count": null,
   "id": "8a4d7a0d",
   "metadata": {},
   "outputs": [],
   "source": []
  }
 ],
 "metadata": {
  "kernelspec": {
   "display_name": "Python 3 (ipykernel)",
   "language": "python",
   "name": "python3"
  },
  "language_info": {
   "codemirror_mode": {
    "name": "ipython",
    "version": 3
   },
   "file_extension": ".py",
   "mimetype": "text/x-python",
   "name": "python",
   "nbconvert_exporter": "python",
   "pygments_lexer": "ipython3",
   "version": "3.11.4"
  }
 },
 "nbformat": 4,
 "nbformat_minor": 5
}
